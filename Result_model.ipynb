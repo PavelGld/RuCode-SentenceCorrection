{
  "nbformat": 4,
  "nbformat_minor": 0,
  "metadata": {
    "colab": {
      "provenance": []
    },
    "kernelspec": {
      "name": "python3",
      "display_name": "Python 3"
    },
    "language_info": {
      "name": "python"
    }
  },
  "cells": [
    {
      "cell_type": "markdown",
      "source": [
        "Через данную программу получалась итоговая посылка на private test. Вычисления проводились в google colab. Для получения той же посылки достаточно поочередно активировать все блоки кода и заменить адреса файлов на ссылки/адреса которые стоят у вас. я подключал прямо с диска потому и включаю с диска. Если по каким-то причинам результаты отличаются или модель не работает, ну или вам не нравится такое решение, прошу написать мне в telegram @PavelGladkih"
      ],
      "metadata": {
        "id": "hl5IwVEWiPI1"
      }
    },
    {
      "cell_type": "markdown",
      "source": [
        "Замечание! Я опасаюсь, что при сжатии/загрузке на github train.csv потерялись какие-то данные, так что его по возможности лучше подгрузить его как-то иначе!!! ( не с гитхаб)"
      ],
      "metadata": {
        "id": "3cWXWB0A7ZZJ"
      }
    },
    {
      "cell_type": "code",
      "execution_count": 1,
      "metadata": {
        "colab": {
          "base_uri": "https://localhost:8080/"
        },
        "id": "JHN2pMzn7WT-",
        "outputId": "413af879-d626-4fec-b243-f78f21c71087"
      },
      "outputs": [
        {
          "output_type": "stream",
          "name": "stdout",
          "text": [
            "Mounted at /content/private_test.csv\n",
            "Mounted at /content/train.csv\n",
            "Mounted at /content/sample_submission.csv\n"
          ]
        }
      ],
      "source": [
        "import numpy as np\n",
        "import pandas as pd\n",
        "\n",
        "# Эти 3 строки подразумевают загрузку обучающего набора train.csv и private_test\n",
        "from google.colab import drive\n",
        "drive.mount('/content/private_test.csv')\n",
        "drive.mount('/content/train.csv')\n",
        "drive.mount('/content/sample_submission.csv')"
      ]
    },
    {
      "cell_type": "markdown",
      "source": [
        "Загрузка обучающей выборки и построение по ней начального словаря с сохранением частот встречи с каждым словом (начального т.к. в нем много слов с разного рода опечатками и их нужно убирать). Также загружается словарь с большим известным числом русских слов в разных формах. по нему строится новый словарь, который впоследствии будет применяться для улучшения начального словаря"
      ],
      "metadata": {
        "id": "TnferbR9jsNf"
      }
    },
    {
      "cell_type": "code",
      "source": [
        "train = pd.read_csv('/content/sample_submission.csv/MyDrive/train.csv')\n",
        "\n",
        "import re\n",
        "set(re.sub('[!@#$-,.?]', '', train['correct_text'][0]).split(  ))\n",
        "\n",
        "train_correct = train['correct_text']\n",
        "\n",
        "\n",
        "lists = list()\n",
        "buf_Dictionary = dict()\n",
        "i=0\n",
        "for string in train_correct:\n",
        "  new_list = re.sub('[1234567890qwertyuiopasdfghjklzxcvbnm!@#$--,.?¬\\]\\[\\'\\\"]', ' ', string.lower()).split(  )\n",
        "  for i in new_list:\n",
        "    if i in buf_Dictionary:\n",
        "      buf_Dictionary[i] = buf_Dictionary[i] + 1\n",
        "    else:\n",
        "      buf_Dictionary[i] = 1\n",
        "\n",
        "\n",
        "import requests\n",
        "\n",
        "response = requests.get('https://raw.githubusercontent.com/danakt/russian-words/master/russian.txt')\n",
        "\n",
        "text = response.content.decode('cp1251')\n",
        "\n",
        "with open('russian.txt', 'wb') as ru:\n",
        "    ru.write(text.encode('utf-8'))\n",
        "\n",
        "f = open('russian.txt', 'r')\n",
        "\n",
        "Dict_FULL = dict()\n",
        "with open('russian.txt', 'r')  as f:\n",
        "  nums = f.read().splitlines()\n",
        "for i in nums:\n",
        "  if i[0]=='-':\n",
        "    Dict_FULL[i[1:]] = 1\n",
        "  else:\n",
        "    Dict_FULL[i] = 1\n",
        "\n",
        "def perc(crit):\n",
        "  not_in = 0\n",
        "  in_dict = 0\n",
        "  critical = crit\n",
        "  for i in buf_Dictionary:\n",
        "    if i in Dict_FULL and buf_Dictionary[i]<critical:\n",
        "      in_dict = in_dict + 1\n",
        "    if i not in Dict_FULL and buf_Dictionary[i]<critical:\n",
        "      not_in = not_in +1\n",
        "  return not_in, not_in/float(in_dict+not_in)\n"
      ],
      "metadata": {
        "colab": {
          "base_uri": "https://localhost:8080/"
        },
        "id": "MCauDF0g7YAb",
        "outputId": "26212c31-053f-41d1-f5da-14e9764bb4a7"
      },
      "execution_count": 2,
      "outputs": [
        {
          "output_type": "stream",
          "name": "stderr",
          "text": [
            "/usr/local/lib/python3.7/dist-packages/ipykernel_launcher.py:13: FutureWarning: Possible set difference at position 41\n",
            "  del sys.path[0]\n"
          ]
        }
      ]
    },
    {
      "cell_type": "markdown",
      "source": [
        "perc функция которая подсчитывает статистики для анализа, какие слова можно выкинуть. "
      ],
      "metadata": {
        "id": "pxIuahNJkNoA"
      }
    },
    {
      "cell_type": "markdown",
      "source": [
        "Следующий блок задает основной словарь. Используется словарь изначальный и из него выбрасываются слова, если они не встречаются в более полном словаре из интернета и редко встречаются ( второй if удаляет множество лишних слов длиной меньше 4 и для удобства добавляется элемент с пустой строкой)"
      ],
      "metadata": {
        "id": "FTAswnVkk8ro"
      }
    },
    {
      "cell_type": "code",
      "source": [
        "Dictionary = buf_Dictionary.copy()\n",
        "print(len(Dictionary))\n",
        "critical = 5\n",
        "print(perc(critical))\n",
        "Dictionary = buf_Dictionary.copy()\n",
        "for i in buf_Dictionary:\n",
        "  if i not in Dict_FULL and buf_Dictionary[i]<critical:\n",
        "    Dictionary.pop(i)\n",
        "  else:\n",
        "    if ((len(i)<4) and ((buf_Dictionary[i]<50) and (i not in Dict_FULL))):\n",
        "      Dictionary.pop(i)\n",
        "\n",
        "\n",
        "Dictionary[''] = 1\n",
        "print(len(Dictionary))"
      ],
      "metadata": {
        "colab": {
          "base_uri": "https://localhost:8080/"
        },
        "id": "uaGLgi1Z7ZtZ",
        "outputId": "36da275e-baf2-43ac-c241-6bfebc51b262"
      },
      "execution_count": 3,
      "outputs": [
        {
          "output_type": "stream",
          "name": "stdout",
          "text": [
            "266051\n",
            "(89123, 0.45712541802589196)\n",
            "176413\n"
          ]
        }
      ]
    },
    {
      "cell_type": "code",
      "source": [
        "!pip install python-Levenshtein"
      ],
      "metadata": {
        "colab": {
          "base_uri": "https://localhost:8080/"
        },
        "id": "LjP8V4LZ7b5M",
        "outputId": "80659aac-adeb-474e-8a5b-31e77a06f918"
      },
      "execution_count": 4,
      "outputs": [
        {
          "output_type": "stream",
          "name": "stdout",
          "text": [
            "Looking in indexes: https://pypi.org/simple, https://us-python.pkg.dev/colab-wheels/public/simple/\n",
            "Collecting python-Levenshtein\n",
            "  Downloading python_Levenshtein-0.20.8-py3-none-any.whl (9.4 kB)\n",
            "Collecting Levenshtein==0.20.8\n",
            "  Downloading Levenshtein-0.20.8-cp37-cp37m-manylinux_2_17_x86_64.manylinux2014_x86_64.whl (175 kB)\n",
            "\u001b[K     |████████████████████████████████| 175 kB 5.3 MB/s \n",
            "\u001b[?25hCollecting rapidfuzz<3.0.0,>=2.3.0\n",
            "  Downloading rapidfuzz-2.13.2-cp37-cp37m-manylinux_2_17_x86_64.manylinux2014_x86_64.whl (2.2 MB)\n",
            "\u001b[K     |████████████████████████████████| 2.2 MB 46.9 MB/s \n",
            "\u001b[?25hInstalling collected packages: rapidfuzz, Levenshtein, python-Levenshtein\n",
            "Successfully installed Levenshtein-0.20.8 python-Levenshtein-0.20.8 rapidfuzz-2.13.2\n"
          ]
        }
      ]
    },
    {
      "cell_type": "markdown",
      "source": [
        "Сама модель. она состоит из 4 функций. "
      ],
      "metadata": {
        "id": "rssiVZdIlYa0"
      }
    },
    {
      "cell_type": "code",
      "source": [
        "import Levenshtein\n",
        "\n",
        "\n",
        "\n",
        "sonority = dict()\n",
        " \n",
        "sonority['б'] = 'п'\n",
        "sonority['п'] = 'б'\n",
        "\n",
        "sonority['в'] = 'ф'\n",
        "sonority['ф'] = 'в'\n",
        "\n",
        "sonority['г'] = 'к'\n",
        "sonority['к'] = 'г'\n",
        "\n",
        "sonority['д'] = 'т'\n",
        "sonority['т'] = 'д'\n",
        "\n",
        "sonority['ж'] = 'ш'\n",
        "sonority['ш'] = 'ж'\n",
        "\n",
        "sonority['з'] = 'с'\n",
        "sonority['с'] = 'з'\n",
        "\n",
        "sonority['а'] = 'я'\n",
        "sonority['я'] = 'а'\n",
        "\n",
        "sonority['у'] = 'ю'\n",
        "sonority['ю'] = 'у'\n",
        "\n",
        "sonority['э'] = 'е'\n",
        "sonority['е'] = 'э'\n",
        "\n",
        "sonority['ы'] = 'и'\n",
        "sonority['и'] = 'ы'\n",
        "\n",
        "sonority['о'] = 'ё'\n",
        "sonority['ё'] = 'о'\n",
        "\n",
        "\n",
        "\n",
        "def checksonority(word):\n",
        "  for i in range(len(word)):\n",
        "    if word[i] == 'о':\n",
        "      newword = word[:i] + 'а' + word[i+1:]\n",
        "      if newword in Dictionary:\n",
        "        return newword\n",
        "\n",
        "    if word[i] == 'а':\n",
        "      newword = word[:i] + 'о' + word[i+1:]\n",
        "      if newword in Dictionary:\n",
        "        return newword\n",
        "      \n",
        "      if word[i] in sonority:\n",
        "        newword = word[:i] + sonority[word[i]] + word[i+1:]\n",
        "        if newword in Dictionary:\n",
        "          return newword\n",
        "  return ''\n",
        "\n",
        "def checkperm(word):\n",
        "\n",
        "  for i in range(len(word)-1):\n",
        "    newword = word[:i]+ word[i+1] + word[i] + word[i+2:]\n",
        "    if newword in Dictionary:\n",
        "      return newword\n",
        "  return ''\n",
        "\n",
        "\n",
        "\n",
        "\n",
        "def find_zam(word):\n",
        "  distance_words = 150\n",
        "\n",
        "\n",
        "  replacement = checksonority(word)\n",
        "  if replacement != '':\n",
        "    return replacement\n",
        "\n",
        "\n",
        "  replacement = checkperm(word)\n",
        "  if replacement != '':\n",
        "    return replacement\n",
        "\n",
        "\n",
        "  for dictory_word in Dictionary:\n",
        "     if (abs(len(dictory_word)- len(word))<3):\n",
        "       new_dist = Levenshtein.distance(word,dictory_word)\n",
        "       if (new_dist<distance_words):\n",
        "         replacement = dictory_word\n",
        "         distance_words = new_dist\n",
        "       else:\n",
        "         if (new_dist-distance_words<1) and (Dictionary[replacement]<Dictionary[dictory_word]):\n",
        "           replacement = dictory_word\n",
        "           distance_words = new_dist\n",
        "  return replacement\n",
        "\n",
        "\n",
        "\n",
        "\n",
        "russianlatters = 'абвгдежзийклмнопрстуфхцчшщъыьэюя' + 'абвгдежзийклмнопрстуфхцчшщъыьэюя'.upper()\n",
        "\n",
        "\n",
        "def sentence_correction(sentense):\n",
        "  newsentense = sentense\n",
        "  for i in range(0, len(sentense)-1):\n",
        "    if sentense[i] =='a':\n",
        "      if (i-1>=0 and sentense[i-1] in russianlatters) or (i+1<=len(sentense)-1 and sentense[i+1] in russianlatters):\n",
        "        newsentense = sentense[:i] + 'а' + sentense[i+1:]\n",
        "\n",
        "    if sentense[i] =='A':\n",
        "      if (i-1>=0 and sentense[i-1] in russianlatters) or (i+1<=len(sentense)-1 and sentense[i+1] in russianlatters):\n",
        "        newsentense = sentense[:i] + 'А' + sentense[i+1:]\n",
        "\n",
        "\n",
        "\n",
        "    if sentense[i] =='c':\n",
        "      if (i-1>=0 and sentense[i-1] in russianlatters) or (i+1<=len(sentense)-1 and sentense[i+1] in russianlatters):\n",
        "        newsentense = sentense[:i] + 'с' + sentense[i+1:]\n",
        "\n",
        "    if sentense[i] =='C':\n",
        "      if (i-1>=0 and sentense[i-1] in russianlatters) or (i+1<=len(sentense)-1 and sentense[i+1] in russianlatters):\n",
        "        newsentense = sentense[:i] + 'С' + sentense[i+1:]\n",
        "    \n",
        "    if sentense[i] =='o':\n",
        "      if (i-1>=0 and sentense[i-1] in russianlatters) or (i+1<=len(sentense)-1 and sentense[i+1] in russianlatters):\n",
        "        newsentense = sentense[:i] + 'о' + sentense[i+1:]\n",
        "    if sentense[i] =='O':\n",
        "      if (i-1>=0 and sentense[i-1] in russianlatters) or (i+1<=len(sentense)-1 and sentense[i+1] in russianlatters):\n",
        "        newsentense = sentense[:i] + 'О' + sentense[i+1:]\n",
        "\n",
        "\n",
        "    if sentense[i] =='B':\n",
        "      if (i-1>=0 and sentense[i-1] in russianlatters) or (i+1<=len(sentense)-1 and sentense[i+1] in russianlatters):\n",
        "        newsentense = sentense[:i] + 'В' + sentense[i+1:]\n",
        "\n",
        "    if sentense[i] =='T':\n",
        "      if (i-1>=0 and sentense[i-1] in russianlatters) or (i+1<=len(sentense)-1 and sentense[i+1] in russianlatters):\n",
        "        newsentense = sentense[:i] + 'Т' + sentense[i+1:]\n",
        "\n",
        "  sentense = newsentense\n",
        "  wordslist = re.sub('[1234567890qwertyuiopasdfghjklzxcvbnm:!@#$--,.?\\]\\[\\\"\\']', ' ', sentense.lower()).split()\n",
        "  notlowerlist = re.sub('[1234567890qwertyuiopasdfghjklzxcvbnmQWERTYUIOPASDFGHJKLZXCVBNM:!@#$--,.?\\]\\[\\\"\\']', ' ', sentense).split()\n",
        "  j = 0\n",
        "  buf = ''\n",
        "  if len(wordslist)!=len(notlowerlist):\n",
        "    print(sentense)\n",
        "  for i in wordslist:\n",
        "    if i not in Dictionary:\n",
        "      pattern = r'\\b'+ notlowerlist[j] + r'\\b'\n",
        "      if notlowerlist[j].istitle():\n",
        "        sentense = re.sub(pattern, find_zam(i).title(), sentense) #sentense.replace(notlowerlist[j],find_zam(i).title())\n",
        "      else:\n",
        "        sentense = re.sub(pattern, find_zam(i), sentense) #sentense.replace(notlowerlist[j],find_zam(i))\n",
        "    j = j + 1\n",
        "  return sentense"
      ],
      "metadata": {
        "id": "lrPIZ_ST7d1s"
      },
      "execution_count": 5,
      "outputs": []
    },
    {
      "cell_type": "markdown",
      "source": [
        "загрузка test'а"
      ],
      "metadata": {
        "id": "4TNu8Rhc5O50"
      }
    },
    {
      "cell_type": "code",
      "source": [
        "test = pd.read_csv('/content/sample_submission.csv/MyDrive/private_test.csv')"
      ],
      "metadata": {
        "id": "YfXzQDjb7eKz"
      },
      "execution_count": 6,
      "outputs": []
    },
    {
      "cell_type": "markdown",
      "source": [
        "Функция для обработки текста по частям (применялась для удобства и ускорения работы на публичном и приватном датасете)"
      ],
      "metadata": {
        "id": "OaGfY1as5Scq"
      }
    },
    {
      "cell_type": "code",
      "source": [
        "blocksize = 5454 \n",
        "\n",
        "new_test = test.copy()\n",
        "\n",
        "def new_test_data(index):\n",
        "  if index < 11:\n",
        "    new_test['corrupted_text'][((index-1)*blocksize):(index*blocksize)] = test['corrupted_text'][((index-1)*blocksize):(index*blocksize)].apply(sentence_correction)\n",
        "  if index == 11:\n",
        "    new_test['corrupted_text'][((index-1)*blocksize):] = test['corrupted_text'][((index-1)*blocksize):].apply(sentence_correction)\n",
        "  new_test.to_csv('_2215_.csv', index= False, header=False)\n",
        "  new_test.to_csv('2215_.csv', index= False, header=True)"
      ],
      "metadata": {
        "id": "GrCbJE1f7fRK"
      },
      "execution_count": 7,
      "outputs": []
    },
    {
      "cell_type": "code",
      "source": [
        "for i in range(1,12):\n",
        "  print(i)\n",
        "  new_test_data(i)"
      ],
      "metadata": {
        "colab": {
          "base_uri": "https://localhost:8080/"
        },
        "id": "qg7bwiYg7ggL",
        "outputId": "00fa871b-1ec5-4e6b-d6e5-89e6bf925d04"
      },
      "execution_count": null,
      "outputs": [
        {
          "output_type": "stream",
          "name": "stdout",
          "text": [
            "1\n"
          ]
        },
        {
          "output_type": "stream",
          "name": "stderr",
          "text": [
            "/usr/local/lib/python3.7/dist-packages/ipykernel_launcher.py:150: FutureWarning: Possible set difference at position 42\n",
            "/usr/local/lib/python3.7/dist-packages/ipykernel_launcher.py:151: FutureWarning: Possible set difference at position 68\n"
          ]
        },
        {
          "output_type": "stream",
          "name": "stdout",
          "text": [
            "2\n",
            "3\n",
            "4\n",
            "5\n",
            "6\n",
            "7\n",
            "8\n",
            "9\n",
            "10\n",
            "11\n"
          ]
        }
      ]
    },
    {
      "cell_type": "code",
      "source": [
        "new_test.sample(15)"
      ],
      "metadata": {
        "colab": {
          "base_uri": "https://localhost:8080/",
          "height": 520
        },
        "id": "MLy1JDJJQO0m",
        "outputId": "8fe9027b-5563-416d-b876-2fe51ad55b84"
      },
      "execution_count": null,
      "outputs": [
        {
          "output_type": "execute_result",
          "data": {
            "text/plain": [
              "                                         corrupted_text\n",
              "37641        Конструктор Roblox коллекция сюрприз серия\n",
              "11155                  Можешь снова повторить Эту речь?\n",
              "2814                       Не пережила, оставь это мне.\n",
              "19512                         Позвоните ему. Сейчас же.\n",
              "10717                             Назовете, как хотите.\n",
              "52923                            А как ты нашла дорогу?\n",
              "21530                                  Некий человек...\n",
              "52935                               Вы работа три часа?\n",
              "52001  Да, конечно. Я слышала... Вы здесь бывал раньше.\n",
              "48297     У меня были хорхе оценки по этикет и гигиене.\n",
              "21755          ...им моего дед. Я родилась последней...\n",
              "6608          Мы можем дать ему шанс выиграть и выжить.\n",
              "33689                     Не по-американски, но весело.\n",
              "32298                    - Почему на смылась из города?\n",
              "45149                    ещ не время садиться в шлюпку."
            ],
            "text/html": [
              "\n",
              "  <div id=\"df-d24c4edf-d84f-4fdb-ae40-05b52feec47f\">\n",
              "    <div class=\"colab-df-container\">\n",
              "      <div>\n",
              "<style scoped>\n",
              "    .dataframe tbody tr th:only-of-type {\n",
              "        vertical-align: middle;\n",
              "    }\n",
              "\n",
              "    .dataframe tbody tr th {\n",
              "        vertical-align: top;\n",
              "    }\n",
              "\n",
              "    .dataframe thead th {\n",
              "        text-align: right;\n",
              "    }\n",
              "</style>\n",
              "<table border=\"1\" class=\"dataframe\">\n",
              "  <thead>\n",
              "    <tr style=\"text-align: right;\">\n",
              "      <th></th>\n",
              "      <th>corrupted_text</th>\n",
              "    </tr>\n",
              "  </thead>\n",
              "  <tbody>\n",
              "    <tr>\n",
              "      <th>37641</th>\n",
              "      <td>Конструктор Roblox коллекция сюрприз серия</td>\n",
              "    </tr>\n",
              "    <tr>\n",
              "      <th>11155</th>\n",
              "      <td>Можешь снова повторить Эту речь?</td>\n",
              "    </tr>\n",
              "    <tr>\n",
              "      <th>2814</th>\n",
              "      <td>Не пережила, оставь это мне.</td>\n",
              "    </tr>\n",
              "    <tr>\n",
              "      <th>19512</th>\n",
              "      <td>Позвоните ему. Сейчас же.</td>\n",
              "    </tr>\n",
              "    <tr>\n",
              "      <th>10717</th>\n",
              "      <td>Назовете, как хотите.</td>\n",
              "    </tr>\n",
              "    <tr>\n",
              "      <th>52923</th>\n",
              "      <td>А как ты нашла дорогу?</td>\n",
              "    </tr>\n",
              "    <tr>\n",
              "      <th>21530</th>\n",
              "      <td>Некий человек...</td>\n",
              "    </tr>\n",
              "    <tr>\n",
              "      <th>52935</th>\n",
              "      <td>Вы работа три часа?</td>\n",
              "    </tr>\n",
              "    <tr>\n",
              "      <th>52001</th>\n",
              "      <td>Да, конечно. Я слышала... Вы здесь бывал раньше.</td>\n",
              "    </tr>\n",
              "    <tr>\n",
              "      <th>48297</th>\n",
              "      <td>У меня были хорхе оценки по этикет и гигиене.</td>\n",
              "    </tr>\n",
              "    <tr>\n",
              "      <th>21755</th>\n",
              "      <td>...им моего дед. Я родилась последней...</td>\n",
              "    </tr>\n",
              "    <tr>\n",
              "      <th>6608</th>\n",
              "      <td>Мы можем дать ему шанс выиграть и выжить.</td>\n",
              "    </tr>\n",
              "    <tr>\n",
              "      <th>33689</th>\n",
              "      <td>Не по-американски, но весело.</td>\n",
              "    </tr>\n",
              "    <tr>\n",
              "      <th>32298</th>\n",
              "      <td>- Почему на смылась из города?</td>\n",
              "    </tr>\n",
              "    <tr>\n",
              "      <th>45149</th>\n",
              "      <td>ещ не время садиться в шлюпку.</td>\n",
              "    </tr>\n",
              "  </tbody>\n",
              "</table>\n",
              "</div>\n",
              "      <button class=\"colab-df-convert\" onclick=\"convertToInteractive('df-d24c4edf-d84f-4fdb-ae40-05b52feec47f')\"\n",
              "              title=\"Convert this dataframe to an interactive table.\"\n",
              "              style=\"display:none;\">\n",
              "        \n",
              "  <svg xmlns=\"http://www.w3.org/2000/svg\" height=\"24px\"viewBox=\"0 0 24 24\"\n",
              "       width=\"24px\">\n",
              "    <path d=\"M0 0h24v24H0V0z\" fill=\"none\"/>\n",
              "    <path d=\"M18.56 5.44l.94 2.06.94-2.06 2.06-.94-2.06-.94-.94-2.06-.94 2.06-2.06.94zm-11 1L8.5 8.5l.94-2.06 2.06-.94-2.06-.94L8.5 2.5l-.94 2.06-2.06.94zm10 10l.94 2.06.94-2.06 2.06-.94-2.06-.94-.94-2.06-.94 2.06-2.06.94z\"/><path d=\"M17.41 7.96l-1.37-1.37c-.4-.4-.92-.59-1.43-.59-.52 0-1.04.2-1.43.59L10.3 9.45l-7.72 7.72c-.78.78-.78 2.05 0 2.83L4 21.41c.39.39.9.59 1.41.59.51 0 1.02-.2 1.41-.59l7.78-7.78 2.81-2.81c.8-.78.8-2.07 0-2.86zM5.41 20L4 18.59l7.72-7.72 1.47 1.35L5.41 20z\"/>\n",
              "  </svg>\n",
              "      </button>\n",
              "      \n",
              "  <style>\n",
              "    .colab-df-container {\n",
              "      display:flex;\n",
              "      flex-wrap:wrap;\n",
              "      gap: 12px;\n",
              "    }\n",
              "\n",
              "    .colab-df-convert {\n",
              "      background-color: #E8F0FE;\n",
              "      border: none;\n",
              "      border-radius: 50%;\n",
              "      cursor: pointer;\n",
              "      display: none;\n",
              "      fill: #1967D2;\n",
              "      height: 32px;\n",
              "      padding: 0 0 0 0;\n",
              "      width: 32px;\n",
              "    }\n",
              "\n",
              "    .colab-df-convert:hover {\n",
              "      background-color: #E2EBFA;\n",
              "      box-shadow: 0px 1px 2px rgba(60, 64, 67, 0.3), 0px 1px 3px 1px rgba(60, 64, 67, 0.15);\n",
              "      fill: #174EA6;\n",
              "    }\n",
              "\n",
              "    [theme=dark] .colab-df-convert {\n",
              "      background-color: #3B4455;\n",
              "      fill: #D2E3FC;\n",
              "    }\n",
              "\n",
              "    [theme=dark] .colab-df-convert:hover {\n",
              "      background-color: #434B5C;\n",
              "      box-shadow: 0px 1px 3px 1px rgba(0, 0, 0, 0.15);\n",
              "      filter: drop-shadow(0px 1px 2px rgba(0, 0, 0, 0.3));\n",
              "      fill: #FFFFFF;\n",
              "    }\n",
              "  </style>\n",
              "\n",
              "      <script>\n",
              "        const buttonEl =\n",
              "          document.querySelector('#df-d24c4edf-d84f-4fdb-ae40-05b52feec47f button.colab-df-convert');\n",
              "        buttonEl.style.display =\n",
              "          google.colab.kernel.accessAllowed ? 'block' : 'none';\n",
              "\n",
              "        async function convertToInteractive(key) {\n",
              "          const element = document.querySelector('#df-d24c4edf-d84f-4fdb-ae40-05b52feec47f');\n",
              "          const dataTable =\n",
              "            await google.colab.kernel.invokeFunction('convertToInteractive',\n",
              "                                                     [key], {});\n",
              "          if (!dataTable) return;\n",
              "\n",
              "          const docLinkHtml = 'Like what you see? Visit the ' +\n",
              "            '<a target=\"_blank\" href=https://colab.research.google.com/notebooks/data_table.ipynb>data table notebook</a>'\n",
              "            + ' to learn more about interactive tables.';\n",
              "          element.innerHTML = '';\n",
              "          dataTable['output_type'] = 'display_data';\n",
              "          await google.colab.output.renderOutput(dataTable, element);\n",
              "          const docLink = document.createElement('div');\n",
              "          docLink.innerHTML = docLinkHtml;\n",
              "          element.appendChild(docLink);\n",
              "        }\n",
              "      </script>\n",
              "    </div>\n",
              "  </div>\n",
              "  "
            ]
          },
          "metadata": {},
          "execution_count": 114
        }
      ]
    },
    {
      "cell_type": "markdown",
      "source": [
        "Осталось сохранить решение"
      ],
      "metadata": {
        "id": "B70ARVaq5IIF"
      }
    },
    {
      "cell_type": "code",
      "source": [
        "new_test.to_csv('_FF2.csv', index= False, header=False)"
      ],
      "metadata": {
        "id": "iHjdf1DAQOK8"
      },
      "execution_count": null,
      "outputs": []
    },
    {
      "cell_type": "code",
      "source": [
        "pd.read_csv('/content/_FF2.csv')"
      ],
      "metadata": {
        "colab": {
          "base_uri": "https://localhost:8080/",
          "height": 424
        },
        "id": "hPwEqBfDWJ37",
        "outputId": "6350687a-3f3c-48b3-ad6f-5d050106c73d"
      },
      "execution_count": null,
      "outputs": [
        {
          "output_type": "execute_result",
          "data": {
            "text/plain": [
              "                      мясные блюда говядина\n",
              "0                         - А можно я пойд?\n",
              "1                 Бордюр обойн ассортименте\n",
              "2                       Вместо соуса кетчуп\n",
              "3      Не простая, как она могла туда папа.\n",
              "4                  У мня таких полное поле.\n",
              "...                                     ...\n",
              "56520    Замена втулок стабилизатора задних\n",
              "56521            Пряники Воронежские ржаные\n",
              "56522              Следовательно, он вновь.\n",
              "56523    Детская стрижка дошкольный возраст\n",
              "56524              Мы напоим ее, не так ли?\n",
              "\n",
              "[56525 rows x 1 columns]"
            ],
            "text/html": [
              "\n",
              "  <div id=\"df-6a0f64be-bd61-41ec-857c-8525fd96d5e2\">\n",
              "    <div class=\"colab-df-container\">\n",
              "      <div>\n",
              "<style scoped>\n",
              "    .dataframe tbody tr th:only-of-type {\n",
              "        vertical-align: middle;\n",
              "    }\n",
              "\n",
              "    .dataframe tbody tr th {\n",
              "        vertical-align: top;\n",
              "    }\n",
              "\n",
              "    .dataframe thead th {\n",
              "        text-align: right;\n",
              "    }\n",
              "</style>\n",
              "<table border=\"1\" class=\"dataframe\">\n",
              "  <thead>\n",
              "    <tr style=\"text-align: right;\">\n",
              "      <th></th>\n",
              "      <th>мясные блюда говядина</th>\n",
              "    </tr>\n",
              "  </thead>\n",
              "  <tbody>\n",
              "    <tr>\n",
              "      <th>0</th>\n",
              "      <td>- А можно я пойд?</td>\n",
              "    </tr>\n",
              "    <tr>\n",
              "      <th>1</th>\n",
              "      <td>Бордюр обойн ассортименте</td>\n",
              "    </tr>\n",
              "    <tr>\n",
              "      <th>2</th>\n",
              "      <td>Вместо соуса кетчуп</td>\n",
              "    </tr>\n",
              "    <tr>\n",
              "      <th>3</th>\n",
              "      <td>Не простая, как она могла туда папа.</td>\n",
              "    </tr>\n",
              "    <tr>\n",
              "      <th>4</th>\n",
              "      <td>У мня таких полное поле.</td>\n",
              "    </tr>\n",
              "    <tr>\n",
              "      <th>...</th>\n",
              "      <td>...</td>\n",
              "    </tr>\n",
              "    <tr>\n",
              "      <th>56520</th>\n",
              "      <td>Замена втулок стабилизатора задних</td>\n",
              "    </tr>\n",
              "    <tr>\n",
              "      <th>56521</th>\n",
              "      <td>Пряники Воронежские ржаные</td>\n",
              "    </tr>\n",
              "    <tr>\n",
              "      <th>56522</th>\n",
              "      <td>Следовательно, он вновь.</td>\n",
              "    </tr>\n",
              "    <tr>\n",
              "      <th>56523</th>\n",
              "      <td>Детская стрижка дошкольный возраст</td>\n",
              "    </tr>\n",
              "    <tr>\n",
              "      <th>56524</th>\n",
              "      <td>Мы напоим ее, не так ли?</td>\n",
              "    </tr>\n",
              "  </tbody>\n",
              "</table>\n",
              "<p>56525 rows × 1 columns</p>\n",
              "</div>\n",
              "      <button class=\"colab-df-convert\" onclick=\"convertToInteractive('df-6a0f64be-bd61-41ec-857c-8525fd96d5e2')\"\n",
              "              title=\"Convert this dataframe to an interactive table.\"\n",
              "              style=\"display:none;\">\n",
              "        \n",
              "  <svg xmlns=\"http://www.w3.org/2000/svg\" height=\"24px\"viewBox=\"0 0 24 24\"\n",
              "       width=\"24px\">\n",
              "    <path d=\"M0 0h24v24H0V0z\" fill=\"none\"/>\n",
              "    <path d=\"M18.56 5.44l.94 2.06.94-2.06 2.06-.94-2.06-.94-.94-2.06-.94 2.06-2.06.94zm-11 1L8.5 8.5l.94-2.06 2.06-.94-2.06-.94L8.5 2.5l-.94 2.06-2.06.94zm10 10l.94 2.06.94-2.06 2.06-.94-2.06-.94-.94-2.06-.94 2.06-2.06.94z\"/><path d=\"M17.41 7.96l-1.37-1.37c-.4-.4-.92-.59-1.43-.59-.52 0-1.04.2-1.43.59L10.3 9.45l-7.72 7.72c-.78.78-.78 2.05 0 2.83L4 21.41c.39.39.9.59 1.41.59.51 0 1.02-.2 1.41-.59l7.78-7.78 2.81-2.81c.8-.78.8-2.07 0-2.86zM5.41 20L4 18.59l7.72-7.72 1.47 1.35L5.41 20z\"/>\n",
              "  </svg>\n",
              "      </button>\n",
              "      \n",
              "  <style>\n",
              "    .colab-df-container {\n",
              "      display:flex;\n",
              "      flex-wrap:wrap;\n",
              "      gap: 12px;\n",
              "    }\n",
              "\n",
              "    .colab-df-convert {\n",
              "      background-color: #E8F0FE;\n",
              "      border: none;\n",
              "      border-radius: 50%;\n",
              "      cursor: pointer;\n",
              "      display: none;\n",
              "      fill: #1967D2;\n",
              "      height: 32px;\n",
              "      padding: 0 0 0 0;\n",
              "      width: 32px;\n",
              "    }\n",
              "\n",
              "    .colab-df-convert:hover {\n",
              "      background-color: #E2EBFA;\n",
              "      box-shadow: 0px 1px 2px rgba(60, 64, 67, 0.3), 0px 1px 3px 1px rgba(60, 64, 67, 0.15);\n",
              "      fill: #174EA6;\n",
              "    }\n",
              "\n",
              "    [theme=dark] .colab-df-convert {\n",
              "      background-color: #3B4455;\n",
              "      fill: #D2E3FC;\n",
              "    }\n",
              "\n",
              "    [theme=dark] .colab-df-convert:hover {\n",
              "      background-color: #434B5C;\n",
              "      box-shadow: 0px 1px 3px 1px rgba(0, 0, 0, 0.15);\n",
              "      filter: drop-shadow(0px 1px 2px rgba(0, 0, 0, 0.3));\n",
              "      fill: #FFFFFF;\n",
              "    }\n",
              "  </style>\n",
              "\n",
              "      <script>\n",
              "        const buttonEl =\n",
              "          document.querySelector('#df-6a0f64be-bd61-41ec-857c-8525fd96d5e2 button.colab-df-convert');\n",
              "        buttonEl.style.display =\n",
              "          google.colab.kernel.accessAllowed ? 'block' : 'none';\n",
              "\n",
              "        async function convertToInteractive(key) {\n",
              "          const element = document.querySelector('#df-6a0f64be-bd61-41ec-857c-8525fd96d5e2');\n",
              "          const dataTable =\n",
              "            await google.colab.kernel.invokeFunction('convertToInteractive',\n",
              "                                                     [key], {});\n",
              "          if (!dataTable) return;\n",
              "\n",
              "          const docLinkHtml = 'Like what you see? Visit the ' +\n",
              "            '<a target=\"_blank\" href=https://colab.research.google.com/notebooks/data_table.ipynb>data table notebook</a>'\n",
              "            + ' to learn more about interactive tables.';\n",
              "          element.innerHTML = '';\n",
              "          dataTable['output_type'] = 'display_data';\n",
              "          await google.colab.output.renderOutput(dataTable, element);\n",
              "          const docLink = document.createElement('div');\n",
              "          docLink.innerHTML = docLinkHtml;\n",
              "          element.appendChild(docLink);\n",
              "        }\n",
              "      </script>\n",
              "    </div>\n",
              "  </div>\n",
              "  "
            ]
          },
          "metadata": {},
          "execution_count": 116
        }
      ]
    },
    {
      "cell_type": "markdown",
      "source": [
        "Для проверки совпадают ли решения загрузим финальную посылку, посчитаем некоторые строки и сравним их (последнюю посылку загрузил руками)"
      ],
      "metadata": {
        "id": "49oAPyspyqLv"
      }
    },
    {
      "cell_type": "code",
      "source": [
        "Final_sub = pd.read_csv('/content/_FF2.csv',header=None)"
      ],
      "metadata": {
        "id": "vLSNPtASy0lF"
      },
      "execution_count": 20,
      "outputs": []
    },
    {
      "cell_type": "code",
      "source": [
        "Final_sub"
      ],
      "metadata": {
        "colab": {
          "base_uri": "https://localhost:8080/",
          "height": 424
        },
        "id": "xVk4kelbzDHN",
        "outputId": "37cbd877-ae39-43d3-e979-7d9bea77d759"
      },
      "execution_count": 21,
      "outputs": [
        {
          "output_type": "execute_result",
          "data": {
            "text/plain": [
              "                                          0\n",
              "0                     мясные блюда говядина\n",
              "1                         - А можно я пойд?\n",
              "2                 Бордюр обойн ассортименте\n",
              "3                       Вместо соуса кетчуп\n",
              "4      Не простая, как она могла туда папа.\n",
              "...                                     ...\n",
              "56521    Замена втулок стабилизатора задних\n",
              "56522            Пряники Воронежские ржаные\n",
              "56523              Следовательно, он вновь.\n",
              "56524    Детская стрижка дошкольный возраст\n",
              "56525              Мы напоим ее, не так ли?\n",
              "\n",
              "[56526 rows x 1 columns]"
            ],
            "text/html": [
              "\n",
              "  <div id=\"df-9a03ca1b-f8d2-449b-bacb-e348a28ec735\">\n",
              "    <div class=\"colab-df-container\">\n",
              "      <div>\n",
              "<style scoped>\n",
              "    .dataframe tbody tr th:only-of-type {\n",
              "        vertical-align: middle;\n",
              "    }\n",
              "\n",
              "    .dataframe tbody tr th {\n",
              "        vertical-align: top;\n",
              "    }\n",
              "\n",
              "    .dataframe thead th {\n",
              "        text-align: right;\n",
              "    }\n",
              "</style>\n",
              "<table border=\"1\" class=\"dataframe\">\n",
              "  <thead>\n",
              "    <tr style=\"text-align: right;\">\n",
              "      <th></th>\n",
              "      <th>0</th>\n",
              "    </tr>\n",
              "  </thead>\n",
              "  <tbody>\n",
              "    <tr>\n",
              "      <th>0</th>\n",
              "      <td>мясные блюда говядина</td>\n",
              "    </tr>\n",
              "    <tr>\n",
              "      <th>1</th>\n",
              "      <td>- А можно я пойд?</td>\n",
              "    </tr>\n",
              "    <tr>\n",
              "      <th>2</th>\n",
              "      <td>Бордюр обойн ассортименте</td>\n",
              "    </tr>\n",
              "    <tr>\n",
              "      <th>3</th>\n",
              "      <td>Вместо соуса кетчуп</td>\n",
              "    </tr>\n",
              "    <tr>\n",
              "      <th>4</th>\n",
              "      <td>Не простая, как она могла туда папа.</td>\n",
              "    </tr>\n",
              "    <tr>\n",
              "      <th>...</th>\n",
              "      <td>...</td>\n",
              "    </tr>\n",
              "    <tr>\n",
              "      <th>56521</th>\n",
              "      <td>Замена втулок стабилизатора задних</td>\n",
              "    </tr>\n",
              "    <tr>\n",
              "      <th>56522</th>\n",
              "      <td>Пряники Воронежские ржаные</td>\n",
              "    </tr>\n",
              "    <tr>\n",
              "      <th>56523</th>\n",
              "      <td>Следовательно, он вновь.</td>\n",
              "    </tr>\n",
              "    <tr>\n",
              "      <th>56524</th>\n",
              "      <td>Детская стрижка дошкольный возраст</td>\n",
              "    </tr>\n",
              "    <tr>\n",
              "      <th>56525</th>\n",
              "      <td>Мы напоим ее, не так ли?</td>\n",
              "    </tr>\n",
              "  </tbody>\n",
              "</table>\n",
              "<p>56526 rows × 1 columns</p>\n",
              "</div>\n",
              "      <button class=\"colab-df-convert\" onclick=\"convertToInteractive('df-9a03ca1b-f8d2-449b-bacb-e348a28ec735')\"\n",
              "              title=\"Convert this dataframe to an interactive table.\"\n",
              "              style=\"display:none;\">\n",
              "        \n",
              "  <svg xmlns=\"http://www.w3.org/2000/svg\" height=\"24px\"viewBox=\"0 0 24 24\"\n",
              "       width=\"24px\">\n",
              "    <path d=\"M0 0h24v24H0V0z\" fill=\"none\"/>\n",
              "    <path d=\"M18.56 5.44l.94 2.06.94-2.06 2.06-.94-2.06-.94-.94-2.06-.94 2.06-2.06.94zm-11 1L8.5 8.5l.94-2.06 2.06-.94-2.06-.94L8.5 2.5l-.94 2.06-2.06.94zm10 10l.94 2.06.94-2.06 2.06-.94-2.06-.94-.94-2.06-.94 2.06-2.06.94z\"/><path d=\"M17.41 7.96l-1.37-1.37c-.4-.4-.92-.59-1.43-.59-.52 0-1.04.2-1.43.59L10.3 9.45l-7.72 7.72c-.78.78-.78 2.05 0 2.83L4 21.41c.39.39.9.59 1.41.59.51 0 1.02-.2 1.41-.59l7.78-7.78 2.81-2.81c.8-.78.8-2.07 0-2.86zM5.41 20L4 18.59l7.72-7.72 1.47 1.35L5.41 20z\"/>\n",
              "  </svg>\n",
              "      </button>\n",
              "      \n",
              "  <style>\n",
              "    .colab-df-container {\n",
              "      display:flex;\n",
              "      flex-wrap:wrap;\n",
              "      gap: 12px;\n",
              "    }\n",
              "\n",
              "    .colab-df-convert {\n",
              "      background-color: #E8F0FE;\n",
              "      border: none;\n",
              "      border-radius: 50%;\n",
              "      cursor: pointer;\n",
              "      display: none;\n",
              "      fill: #1967D2;\n",
              "      height: 32px;\n",
              "      padding: 0 0 0 0;\n",
              "      width: 32px;\n",
              "    }\n",
              "\n",
              "    .colab-df-convert:hover {\n",
              "      background-color: #E2EBFA;\n",
              "      box-shadow: 0px 1px 2px rgba(60, 64, 67, 0.3), 0px 1px 3px 1px rgba(60, 64, 67, 0.15);\n",
              "      fill: #174EA6;\n",
              "    }\n",
              "\n",
              "    [theme=dark] .colab-df-convert {\n",
              "      background-color: #3B4455;\n",
              "      fill: #D2E3FC;\n",
              "    }\n",
              "\n",
              "    [theme=dark] .colab-df-convert:hover {\n",
              "      background-color: #434B5C;\n",
              "      box-shadow: 0px 1px 3px 1px rgba(0, 0, 0, 0.15);\n",
              "      filter: drop-shadow(0px 1px 2px rgba(0, 0, 0, 0.3));\n",
              "      fill: #FFFFFF;\n",
              "    }\n",
              "  </style>\n",
              "\n",
              "      <script>\n",
              "        const buttonEl =\n",
              "          document.querySelector('#df-9a03ca1b-f8d2-449b-bacb-e348a28ec735 button.colab-df-convert');\n",
              "        buttonEl.style.display =\n",
              "          google.colab.kernel.accessAllowed ? 'block' : 'none';\n",
              "\n",
              "        async function convertToInteractive(key) {\n",
              "          const element = document.querySelector('#df-9a03ca1b-f8d2-449b-bacb-e348a28ec735');\n",
              "          const dataTable =\n",
              "            await google.colab.kernel.invokeFunction('convertToInteractive',\n",
              "                                                     [key], {});\n",
              "          if (!dataTable) return;\n",
              "\n",
              "          const docLinkHtml = 'Like what you see? Visit the ' +\n",
              "            '<a target=\"_blank\" href=https://colab.research.google.com/notebooks/data_table.ipynb>data table notebook</a>'\n",
              "            + ' to learn more about interactive tables.';\n",
              "          element.innerHTML = '';\n",
              "          dataTable['output_type'] = 'display_data';\n",
              "          await google.colab.output.renderOutput(dataTable, element);\n",
              "          const docLink = document.createElement('div');\n",
              "          docLink.innerHTML = docLinkHtml;\n",
              "          element.appendChild(docLink);\n",
              "        }\n",
              "      </script>\n",
              "    </div>\n",
              "  </div>\n",
              "  "
            ]
          },
          "metadata": {},
          "execution_count": 21
        }
      ]
    },
    {
      "cell_type": "code",
      "source": [
        "smp = test.sample(15)"
      ],
      "metadata": {
        "id": "UNnU-8sFzFNM"
      },
      "execution_count": 22,
      "outputs": []
    },
    {
      "cell_type": "code",
      "source": [
        "smp['corrupted_text'].apply(sentence_correction)"
      ],
      "metadata": {
        "colab": {
          "base_uri": "https://localhost:8080/"
        },
        "id": "IvHO3Lhw0FbF",
        "outputId": "31855e5d-3e16-4696-ba54-48dbcba4b5c7"
      },
      "execution_count": 23,
      "outputs": [
        {
          "output_type": "execute_result",
          "data": {
            "text/plain": [
              "2169                   Лента траурная декоративная\n",
              "13491                   Ну что мне с тобой делать?\n",
              "7768     - Это так не похоже на тебя, дядя Скрудж.\n",
              "20337                    Ну же Чак, возьми трубку.\n",
              "29524                     Позволь ему рыть самцом.\n",
              "33552     Рано или поздно так людей учит в обмане.\n",
              "16649                       - Топ я тебе и сказал.\n",
              "32280      К концу дня один останется, один умрет.\n",
              "13685        Знате чао? Я хочу установить правило.\n",
              "46662                          -Мы там вместе был.\n",
              "1716               какой у ва любимый парк? Линки.\n",
              "13664                            И это невозможно.\n",
              "50187     На побережье до сих пор ничего не нашли.\n",
              "12921              Мы с Этаном однажды беседовали.\n",
              "15232         Ручка масляная сер DignoTrijet синяя\n",
              "Name: corrupted_text, dtype: object"
            ]
          },
          "metadata": {},
          "execution_count": 23
        }
      ]
    },
    {
      "cell_type": "code",
      "source": [
        "Final_sub[0].iloc[smp.index]"
      ],
      "metadata": {
        "colab": {
          "base_uri": "https://localhost:8080/"
        },
        "id": "dKYN5ZBWzj69",
        "outputId": "7e0f85d1-c0b7-4324-949c-e28760e45e20"
      },
      "execution_count": 24,
      "outputs": [
        {
          "output_type": "execute_result",
          "data": {
            "text/plain": [
              "2169                   Лента траурная декоративная\n",
              "13491                   Ну что мне с тобой делать?\n",
              "7768     - Это так не похоже на тебя, дядя Скрудж.\n",
              "20337                    Ну же Чак, возьми трубку.\n",
              "29524                     Позволь ему рыть самцом.\n",
              "33552     Рано или поздно так людей учит в обмане.\n",
              "16649                       - Топ я тебе и сказал.\n",
              "32280      К концу дня один останется, один умрет.\n",
              "13685        Знате чао? Я хочу установить правило.\n",
              "46662                          -Мы там вместе был.\n",
              "1716               какой у ва любимый парк? Линки.\n",
              "13664                            И это невозможно.\n",
              "50187     На побережье до сих пор ничего не нашли.\n",
              "12921              Мы с Этаном однажды беседовали.\n",
              "15232         Ручка масляная сер DignoTrijet синяя\n",
              "Name: 0, dtype: object"
            ]
          },
          "metadata": {},
          "execution_count": 24
        }
      ]
    },
    {
      "cell_type": "markdown",
      "source": [
        "Как можно увидеть результаты совпали, что говорит о воспроизводимости. Если у вас по каким-то причинам они отличаются или модель не работает, ну или вам не нравится такое решение, прошу написать мне в telegram @PavelGladkih"
      ],
      "metadata": {
        "id": "dtin-bus0UUP"
      }
    }
  ]
}